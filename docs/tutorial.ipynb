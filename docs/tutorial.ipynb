{
 "cells": [
  {
   "cell_type": "markdown",
   "metadata": {
    "collapsed": false
   },
   "source": [
    "# Introduction\n",
    "`l0learn` is a fast toolkit for L0-regularized learning. L0 regularization selects the best subset of features and can outperform commonly used feature selection methods (e.g., L1 and MCP) under many sparse learning regimes. The toolkit can (approximately) solve the following three problems\n",
    "\n",
    "\\begin{equation}\n",
    "\\min_{\\beta_0, \\beta} \\sum_{i=1}^{n} \\ell(y_i, \\beta_0+ \\langle x_i, \\beta \\rangle) + \\lambda ||\\beta||_0 \\quad \\quad (L0) \n",
    "\\end{equation}\n",
    "\n",
    "\n",
    "\\begin{equation}\n",
    "\\min_{\\beta_0, \\beta} \\sum_{i=1}^{n} \\ell(y_i, \\beta_0+ \\langle x_i, \\beta \\rangle) + \\lambda ||\\beta||_0 + \\gamma||\\beta||_1 \\quad (L0L1) \n",
    "\\end{equation}\n",
    "\n",
    "\n",
    "\\begin{equation}\n",
    "\\min_{\\beta_0, \\beta} \\sum_{i=1}^{n} \\ell(y_i, \\beta_0+ \\langle x_i, \\beta \\rangle) + \\lambda ||\\beta||_0 + \\gamma||\\beta||_2^2  \\quad (L0L2)\n",
    "\\end{equation}\n",
    "\n",
    "where $\\ell$ is the loss function, $\\beta_0$ is the intercept, $\\beta$ is the vector of coefficients, and $||\\beta||_0$ denotes the L0 norm of $\\beta$, i.e., the number of non-zeros in $\\beta$. We support both regression and classification using either one of the following loss functions:\n",
    "\n",
    "* Squared error loss\n",
    "* Logistic loss (logistic regression)\n",
    "* Squared hinge loss (smoothed version of SVM).\n",
    "\n",
    "The parameter $\\lambda$ controls the strength of the L0 regularization (larger $\\lambda$ leads to less non-zeros). The parameter $\\gamma$ controls the strength of the shrinkage component (which is the L1 norm in case of L0L1 or squared L2 norm in case of L0L2); adding a shrinkage term to L0 can be very effective in avoiding overfitting and typically leads to better predictive models. The fitting is done over a grid of $\\lambda$ and $\\gamma$ values to generate a regularization path. \n",
    "\n",
    "The algorithms provided in l0learn` are based on cyclic coordinate descent and local combinatorial search. Many computational tricks and heuristics are used to speed up the algorithms and improve the solution quality. These heuristics include warm starts, active set convergence, correlation screening, greedy cycling order, and efficient methods for updating the residuals through exploiting sparsity and problem dimensions. Moreover, we employed a new computationally efficient method for dynamically selecting the regularization parameter $\\lambda$ in the path. For more details on the algorithms used, please refer to our paper [Fast Best Subset Selection: Coordinate Descent and Local Combinatorial Optimization Algorithms](https://pubsonline.informs.org/doi/10.1287/opre.2019.1919).\n",
    "\n",
    "The toolkit is implemented in C++ along with an easy-to-use Python interface. In this vignette, we provide a tutorial on using the Python interface. Particularly, we will demonstrate how use L0Learn's main functions for fitting models, cross-validation, and visualization.\n",
    "\n",
    "# Installation\n",
    "L0Learn can be installed directly from pip by executing:"
   ]
  },
  {
   "cell_type": "markdown",
   "metadata": {
    "collapsed": false
   },
   "source": [
    "```console\n",
    "pip install l0learn\n",
    "```"
   ]
  },
  {
   "cell_type": "markdown",
   "metadata": {
    "collapsed": false
   },
   "source": [
    "If you face installation issues, please refer to the [Installation Troubleshooting Wiki](https://github.com/hazimehh/L0Learn/wiki/Installation-Troubleshooting). If the issue is not resolved, you can submit an issue on [L0Learn's Github Repo](https://github.com/hazimehh/L0Learn).\n",
    "\n",
    "# Tutorial\n",
    "To demonstrate how `l0learn` works, we will first generate a synthetic dataset and then proceed to fitting L0-regularized models. The synthetic dataset (y,X) will be generated from a sparse linear model as follows:\n",
    "\n",
    "* X is a 500x1000 design matrix with iid standard normal entries\n",
    "* B is a 1000x1 vector with the first 10 entries set to 1 and the rest are zeros.\n",
    "* e is a 500x1 vector with iid standard normal entries\n",
    "* y is a 500x1 response vector such that y  = XB + e\n",
    "\n",
    "This dataset can be generated in python as follows:"
   ]
  },
  {
   "cell_type": "code",
   "execution_count": 1,
   "metadata": {
    "collapsed": false,
    "pycharm": {
     "name": "#%%\n"
    }
   },
   "outputs": [],
   "source": [
    "import numpy as np\n",
    "np.random.seed(4) # fix the seed to get a reproducible result\n",
    "n, p, k = 500, 1000, 10\n",
    "X = np.random.normal(size=(n, p))\n",
    "B = np.zeros(p)\n",
    "B[:k] = 1\n",
    "e = np.random.normal(size=(n,))/2\n",
    "y = X@B + e"
   ]
  },
  {
   "cell_type": "markdown",
   "metadata": {
    "collapsed": false
   },
   "source": [
    "More expressive and complete functions for generating datasets can be found are available in [l0learn.models](code.rst#l0learn.models). The available functions are:\n",
    "\n",
    "* [l0learn.models.gen_synthetic()](code.rst#l0learn.models.gen_synthetic)\n",
    "* [l0learn.models.gen_synthetic_high_corr()](code.rst#l0learn.models.gen_synthetic_high_corr)\n",
    "* [l0learn.models.gen_synthetic_logistic()](code.rst#l0learn.models.gen_synthetic_logistic)"
   ]
  },
  {
   "cell_type": "markdown",
   "metadata": {
    "collapsed": false
   },
   "source": [
    "We will use `l0learn` to estimate B from the data (y,X). First we load L0Learn:"
   ]
  },
  {
   "cell_type": "code",
   "execution_count": 2,
   "metadata": {
    "collapsed": false,
    "pycharm": {
     "name": "#%%\n"
    }
   },
   "outputs": [],
   "source": [
    "import l0learn"
   ]
  },
  {
   "cell_type": "markdown",
   "metadata": {
    "collapsed": false
   },
   "source": [
    "We will start by fitting a simple L0 model and then proceed to the case of L0L2 and L0L1.\n",
    "\n",
    "## Fitting L0 Regression Models\n",
    "To fit a path of solutions for the L0-regularized model with at most 20 non-zeros using coordinate descent (CD), we use the [l0learn.fit](code.rst#l0learn.models.gen_synthetic) function as follows:"
   ]
  },
  {
   "cell_type": "code",
   "execution_count": 3,
   "metadata": {
    "collapsed": false,
    "pycharm": {
     "name": "#%%\n"
    }
   },
   "outputs": [],
   "source": [
    "fit_model = l0learn.fit(X, y, penalty=\"L0\", max_support_size=20)"
   ]
  },
  {
   "cell_type": "markdown",
   "metadata": {
    "collapsed": false
   },
   "source": [
    "This will generate solutions for a sequence of $\\lambda$ values (chosen automatically by the algorithm). To view the sequence of $\\lambda$ along with the associated support sizes (i.e., the number of non-zeros), we use the built-in rich display from [ipython Rich Display](https://ipython.readthedocs.io/en/stable/config/integrating.html+) for iPython Notebooks. When running this tutorial in a more standard python environment, use the function [l0learn.models.FitModel.characteristics](code.rst#l0learn.models.FitModel.characteristics) to display the sequence of solutions."
   ]
  },
  {
   "cell_type": "code",
   "execution_count": 4,
   "metadata": {
    "collapsed": false,
    "pycharm": {
     "name": "#%%\n"
    }
   },
   "outputs": [
    {
     "data": {
      "text/html": [
       "<div>\n",
       "<style scoped>\n",
       "    .dataframe tbody tr th:only-of-type {\n",
       "        vertical-align: middle;\n",
       "    }\n",
       "\n",
       "    .dataframe tbody tr th {\n",
       "        vertical-align: top;\n",
       "    }\n",
       "\n",
       "    .dataframe thead th {\n",
       "        text-align: right;\n",
       "    }\n",
       "</style>\n",
       "<table border=\"1\" class=\"dataframe\">\n",
       "  <thead>\n",
       "    <tr style=\"text-align: right;\">\n",
       "      <th></th>\n",
       "      <th>l0</th>\n",
       "      <th>support_size</th>\n",
       "      <th>intercept</th>\n",
       "      <th>converged</th>\n",
       "    </tr>\n",
       "  </thead>\n",
       "  <tbody>\n",
       "    <tr>\n",
       "      <th>0</th>\n",
       "      <td>0.079546</td>\n",
       "      <td>0</td>\n",
       "      <td>-0.156704</td>\n",
       "      <td>True</td>\n",
       "    </tr>\n",
       "    <tr>\n",
       "      <th>1</th>\n",
       "      <td>0.078750</td>\n",
       "      <td>1</td>\n",
       "      <td>-0.147182</td>\n",
       "      <td>True</td>\n",
       "    </tr>\n",
       "    <tr>\n",
       "      <th>2</th>\n",
       "      <td>0.065862</td>\n",
       "      <td>2</td>\n",
       "      <td>-0.161024</td>\n",
       "      <td>True</td>\n",
       "    </tr>\n",
       "    <tr>\n",
       "      <th>3</th>\n",
       "      <td>0.050464</td>\n",
       "      <td>3</td>\n",
       "      <td>-0.002500</td>\n",
       "      <td>True</td>\n",
       "    </tr>\n",
       "    <tr>\n",
       "      <th>4</th>\n",
       "      <td>0.044517</td>\n",
       "      <td>5</td>\n",
       "      <td>-0.041058</td>\n",
       "      <td>True</td>\n",
       "    </tr>\n",
       "    <tr>\n",
       "      <th>5</th>\n",
       "      <td>0.041672</td>\n",
       "      <td>7</td>\n",
       "      <td>-0.058013</td>\n",
       "      <td>True</td>\n",
       "    </tr>\n",
       "    <tr>\n",
       "      <th>6</th>\n",
       "      <td>0.039705</td>\n",
       "      <td>8</td>\n",
       "      <td>-0.061685</td>\n",
       "      <td>True</td>\n",
       "    </tr>\n",
       "    <tr>\n",
       "      <th>7</th>\n",
       "      <td>0.032715</td>\n",
       "      <td>10</td>\n",
       "      <td>0.002157</td>\n",
       "      <td>True</td>\n",
       "    </tr>\n",
       "    <tr>\n",
       "      <th>8</th>\n",
       "      <td>0.000212</td>\n",
       "      <td>11</td>\n",
       "      <td>-0.000857</td>\n",
       "      <td>True</td>\n",
       "    </tr>\n",
       "    <tr>\n",
       "      <th>9</th>\n",
       "      <td>0.000187</td>\n",
       "      <td>12</td>\n",
       "      <td>-0.002161</td>\n",
       "      <td>True</td>\n",
       "    </tr>\n",
       "    <tr>\n",
       "      <th>10</th>\n",
       "      <td>0.000178</td>\n",
       "      <td>13</td>\n",
       "      <td>-0.001199</td>\n",
       "      <td>True</td>\n",
       "    </tr>\n",
       "    <tr>\n",
       "      <th>11</th>\n",
       "      <td>0.000159</td>\n",
       "      <td>15</td>\n",
       "      <td>-0.007959</td>\n",
       "      <td>True</td>\n",
       "    </tr>\n",
       "    <tr>\n",
       "      <th>12</th>\n",
       "      <td>0.000141</td>\n",
       "      <td>16</td>\n",
       "      <td>-0.009603</td>\n",
       "      <td>True</td>\n",
       "    </tr>\n",
       "    <tr>\n",
       "      <th>13</th>\n",
       "      <td>0.000133</td>\n",
       "      <td>18</td>\n",
       "      <td>-0.015697</td>\n",
       "      <td>True</td>\n",
       "    </tr>\n",
       "    <tr>\n",
       "      <th>14</th>\n",
       "      <td>0.000132</td>\n",
       "      <td>21</td>\n",
       "      <td>-0.012732</td>\n",
       "      <td>True</td>\n",
       "    </tr>\n",
       "  </tbody>\n",
       "</table>\n",
       "</div>"
      ],
      "text/plain": [
       "FitModel({'loss': 'SquaredError', 'intercept': True, 'penalty': 'L0'})"
      ]
     },
     "execution_count": 4,
     "metadata": {},
     "output_type": "execute_result"
    }
   ],
   "source": [
    "fit_model\n",
    "# fit_model.characteristics()"
   ]
  },
  {
   "cell_type": "markdown",
   "metadata": {
    "collapsed": false
   },
   "source": [
    "To extract the estimated B for particular values of $\\lambda$ and $\\gamma$, we use the function [l0learn.models.FitModel.coeff](code.rst#l0learn.models.FitModel.coeff). For example, the solution at $\\lambda = 0.032715$ (which corresponds to a support size of 10 + plus an intercept term) can be extracted using:"
   ]
  },
  {
   "cell_type": "code",
   "execution_count": 6,
   "metadata": {
    "collapsed": false,
    "pycharm": {
     "name": "#%%\n"
    }
   },
   "outputs": [
    {
     "data": {
      "text/plain": [
       "<1001x1 sparse matrix of type '<class 'numpy.float64'>'\n",
       "\twith 11 stored elements in Compressed Sparse Column format>"
      ]
     },
     "execution_count": 6,
     "metadata": {},
     "output_type": "execute_result"
    }
   ],
   "source": [
    "fit_model.coeff(lambda_0=0.032715, gamma=0)"
   ]
  },
  {
   "cell_type": "markdown",
   "metadata": {
    "collapsed": false
   },
   "source": [
    "The output is a sparse matrix of type [scipy.sparse.csc_matrix](https://docs.scipy.org/doc/scipy/reference/generated/scipy.sparse.csc_matrix.html). Depending on the `include_intercept` parameter of [l0learn.models.FitModel.coeff](code.rst#l0learn.models.FitModel.coeff), The first element in the vector is the intercept and the rest are the B coefficients. Aside from the intercept, the only non-zeros in the above solution are coordinates 0, 1, 2, 3, ..., 9, which are the non-zero coordinates in the true support (used to generated the data). Thus, this solution successfully recovers the true support. Note that on some BLAS implementations, the `lambda` value we used above (i.e., `0.032715`) might be slightly different due to the limitations of numerical precision. Moreover, all the solutions in the regularization path can be extracted at once by calling [l0learn.models.FitModel.coeff](code.rst#l0learn.models.FitModel.coeff) without specifying a `lambda_0` or `gamma` value.\n",
    "\n",
    "The sequence of $\\lambda$ generated by `L0Learn` is stored in the object `fit_model`. Specifically, `fit_model.lambda_0` is a list, where each element of the list is a sequence of $\\lambda$ values corresponding to a single value of $\\gamma$. When using an L0 penalty , which has only one value of $\\gamma$ (i.e., 0), we can access the sequence of $\\lambda$ values using `fit.lambda_0[0]`. Thus, $\\lambda=0.032715$ we used previously can be accessed using `fit_model.lambda_0[0][7]` (since it is the 8th value in the output of :code:`fit.characteristics()`). The previous solution can also be extracted using `fit_model.coeff(lambda_0=0.032, gamma=0)`."
   ]
  },
  {
   "cell_type": "code",
   "execution_count": 8,
   "metadata": {
    "collapsed": false,
    "pycharm": {
     "name": "#%%\n"
    }
   },
   "outputs": [
    {
     "name": "stdout",
     "output_type": "stream",
     "text": [
      "fit_model.lambda_0[0][7] = 0.03271533058913737\n"
     ]
    },
    {
     "data": {
      "text/plain": [
       "array([[0.00215713],\n",
       "       [1.02014176],\n",
       "       [0.97338278],\n",
       "       ...,\n",
       "       [0.        ],\n",
       "       [0.        ],\n",
       "       [0.        ]])"
      ]
     },
     "execution_count": 8,
     "metadata": {},
     "output_type": "execute_result"
    }
   ],
   "source": [
    "print(f\"fit_model.lambda_0[0][7] = {fit_model.lambda_0[0][7]}\")\n",
    "fit_model.coeff(lambda_0=0.032715, gamma=0).toarray()"
   ]
  },
  {
   "cell_type": "markdown",
   "metadata": {
    "collapsed": false,
    "pycharm": {
     "name": "#%% md\n"
    }
   },
   "source": [
    "We can make predictions using a specific solution in the grid using the function `fit_model.predict(newx, lambda, gamma)` where `newx` is a testing sample (vector or matrix). For example, to predict the response for the samples in the data matrix X using the solution with $\\lambda=0.0058037$, we call the prediction function as follows:"
   ]
  },
  {
   "cell_type": "code",
   "execution_count": 10,
   "metadata": {
    "collapsed": false,
    "pycharm": {
     "name": "#%%\n"
    }
   },
   "outputs": [
    {
     "name": "stdout",
     "output_type": "stream",
     "text": [
      "[[-2.68272239]\n",
      " [-3.667317  ]\n",
      " [-1.77309853]\n",
      " ...\n",
      " [ 2.25545111]\n",
      " [-0.77364234]\n",
      " [-2.15002055]]\n"
     ]
    }
   ],
   "source": [
    "with np.printoptions(threshold=10):\n",
    "    print(fit_model.predict(x=X, lambda_0=0.032715, gamma=0))"
   ]
  },
  {
   "cell_type": "markdown",
   "metadata": {
    "collapsed": false
   },
   "source": [
    "We can also visualize the regularization path by plotting the coefficients of the estimated B versus the support size (i.e., the number of non-zeros) using the [l0learn.models.FitModel.plot()](code.rst#l0learn.models.FitModel.plot) method as follows:"
   ]
  },
  {
   "cell_type": "code",
   "execution_count": 9,
   "metadata": {
    "collapsed": false,
    "pycharm": {
     "name": "#%%\n"
    }
   },
   "outputs": [
    {
     "data": {
      "image/png": "[encoded data removed]",
      "text/plain": [
       "<Figure size 432x288 with 1 Axes>"
      ]
     },
     "metadata": {
      "needs_background": "light"
     },
     "output_type": "display_data"
    }
   ],
   "source": [
    "ax = fit_model.plot(include_legend=True)"
   ]
  },
  {
   "cell_type": "markdown",
   "metadata": {
    "collapsed": false
   },
   "source": [
    "The legend of the plot presents the variables in the order they entered the regularization path. For example, variable 7 is the first variable to enter the path, and variable 6 is the second to enter. Thus, roughly speaking, we can view the first $k$ variables in the legend as the best subset of size $k$. To show the lines connecting the points in the plot, we can set the parameter :code:`show_lines=True` in the `plot` function, i.e., call :code:`fit.plot(fit, gamma=0, show_lines=True)`. Moreover, we note that the plot function returns a [matplotlib.axes._subplots.AxesSubplot](https://pandas.pydata.org/pandas-docs/version/0.21/visualization.html) object, which can be further customized using the `matplotlib` package. In addition, both the [l0learn.models.FitModel.plot()](code.rst#l0learn.models.FitModel.plot) and [l0learn.models.CVFitModel.cv_plot()](code.rst#l0learn.models.CVFitModel.cv_plot) accept :code:`**kwargs` parameter to allow for customization of the plotting behavior.\n"
   ]
  },
  {
   "cell_type": "code",
   "execution_count": 11,
   "metadata": {
    "collapsed": false,
    "pycharm": {
     "name": "#%%\n"
    }
   },
   "outputs": [
    {
     "data": {
      "text/plain": [
       "<AxesSubplot:xlabel='Support Size', ylabel='Coefficient Value'>"
      ]
     },
     "execution_count": 11,
     "metadata": {},
     "output_type": "execute_result"
    },
    {
     "data": {
      "image/png": "[encoded data removed]",
      "text/plain": [
       "<Figure size 432x288 with 1 Axes>"
      ]
     },
     "metadata": {
      "needs_background": "light"
     },
     "output_type": "display_data"
    }
   ],
   "source": [
    "fit_model.plot(show_lines=True)"
   ]
  },
  {
   "cell_type": "markdown",
   "metadata": {
    "collapsed": false,
    "pycharm": {
     "name": "#%% md\n"
    }
   },
   "source": [
    "## Fitting L0L2 and L0L1 Regression Models\n",
    "We have demonstrated the simple case of using an L0 penalty. We can also fit more elaborate models that combine L0 regularization with shrinkage-inducing penalties like the L1 norm or squared L2 norm. Adding shrinkage helps in avoiding overfitting and typically improves the predictive performance of the models. Next, we will discuss how to fit a model using the L0L2 penalty for a two-dimensional grid of :math:`\\lambda` and :math:`\\gamma` values. Recall that by default, `l0learn` automatically selects the :math:`\\lambda` sequence, so we only need to specify the :math:`\\gamma` sequence. Suppose we want to fit an L0L2 model with a maximum of 20 non-zeros and a sequence of 5 :math:`\\gamma` values ranging between 0.0001 and 10. We can do so by calling [l0learn.fit](code.rst#l0learn.fit) with :code:`penalty=\"L0L2\"`, :code:`num_gamma=5`, :code:`gamma_min=0.0001`, and :code:`gamma_max=10` as follows:"
   ]
  },
  {
   "cell_type": "code",
   "execution_count": 12,
   "metadata": {
    "collapsed": false,
    "pycharm": {
     "name": "#%%\n"
    }
   },
   "outputs": [],
   "source": [
    "fit_model_2 = l0learn.fit(X, y, penalty=\"L0L2\", num_gamma = 5, gamma_min = 0.0001, gamma_max = 10, max_support_size=20)"
   ]
  },
  {
   "cell_type": "markdown",
   "metadata": {
    "collapsed": false
   },
   "source": [
    "`l0learn` will generate a grid of 5 :math:`\\gamma` values equi-spaced on the logarithmic scale between 0.0001 and 10. Similar to the case for L0, we can display a summary of the regularization path using the [l0learn.models.FitModel.characteristics](code.rst#l0learn.models.FitModel.characteristics) function as follows:"
   ]
  },
  {
   "cell_type": "code",
   "execution_count": 14,
   "metadata": {
    "collapsed": false,
    "pycharm": {
     "name": "#%%\n"
    }
   },
   "outputs": [
    {
     "data": {
      "text/html": [
       "<div>\n",
       "<style scoped>\n",
       "    .dataframe tbody tr th:only-of-type {\n",
       "        vertical-align: middle;\n",
       "    }\n",
       "\n",
       "    .dataframe tbody tr th {\n",
       "        vertical-align: top;\n",
       "    }\n",
       "\n",
       "    .dataframe thead th {\n",
       "        text-align: right;\n",
       "    }\n",
       "</style>\n",
       "<table border=\"1\" class=\"dataframe\">\n",
       "  <thead>\n",
       "    <tr style=\"text-align: right;\">\n",
       "      <th></th>\n",
       "      <th>l0</th>\n",
       "      <th>support_size</th>\n",
       "      <th>intercept</th>\n",
       "      <th>converged</th>\n",
       "      <th>l2</th>\n",
       "    </tr>\n",
       "  </thead>\n",
       "  <tbody>\n",
       "    <tr>\n",
       "      <th>0</th>\n",
       "      <td>0.003788</td>\n",
       "      <td>0</td>\n",
       "      <td>-0.156704</td>\n",
       "      <td>True</td>\n",
       "      <td>10.0000</td>\n",
       "    </tr>\n",
       "    <tr>\n",
       "      <th>1</th>\n",
       "      <td>0.003750</td>\n",
       "      <td>1</td>\n",
       "      <td>-0.156250</td>\n",
       "      <td>True</td>\n",
       "      <td>10.0000</td>\n",
       "    </tr>\n",
       "    <tr>\n",
       "      <th>2</th>\n",
       "      <td>0.002911</td>\n",
       "      <td>2</td>\n",
       "      <td>-0.148003</td>\n",
       "      <td>True</td>\n",
       "      <td>10.0000</td>\n",
       "    </tr>\n",
       "    <tr>\n",
       "      <th>3</th>\n",
       "      <td>0.002654</td>\n",
       "      <td>3</td>\n",
       "      <td>-0.148650</td>\n",
       "      <td>True</td>\n",
       "      <td>10.0000</td>\n",
       "    </tr>\n",
       "    <tr>\n",
       "      <th>4</th>\n",
       "      <td>0.002597</td>\n",
       "      <td>3</td>\n",
       "      <td>-0.148650</td>\n",
       "      <td>True</td>\n",
       "      <td>10.0000</td>\n",
       "    </tr>\n",
       "    <tr>\n",
       "      <th>...</th>\n",
       "      <td>...</td>\n",
       "      <td>...</td>\n",
       "      <td>...</td>\n",
       "      <td>...</td>\n",
       "      <td>...</td>\n",
       "    </tr>\n",
       "    <tr>\n",
       "      <th>128</th>\n",
       "      <td>0.000216</td>\n",
       "      <td>10</td>\n",
       "      <td>0.002130</td>\n",
       "      <td>True</td>\n",
       "      <td>0.0001</td>\n",
       "    </tr>\n",
       "    <tr>\n",
       "      <th>129</th>\n",
       "      <td>0.000173</td>\n",
       "      <td>13</td>\n",
       "      <td>-0.003684</td>\n",
       "      <td>True</td>\n",
       "      <td>0.0001</td>\n",
       "    </tr>\n",
       "    <tr>\n",
       "      <th>130</th>\n",
       "      <td>0.000167</td>\n",
       "      <td>13</td>\n",
       "      <td>-0.003685</td>\n",
       "      <td>True</td>\n",
       "      <td>0.0001</td>\n",
       "    </tr>\n",
       "    <tr>\n",
       "      <th>131</th>\n",
       "      <td>0.000134</td>\n",
       "      <td>18</td>\n",
       "      <td>-0.015724</td>\n",
       "      <td>True</td>\n",
       "      <td>0.0001</td>\n",
       "    </tr>\n",
       "    <tr>\n",
       "      <th>132</th>\n",
       "      <td>0.000130</td>\n",
       "      <td>21</td>\n",
       "      <td>-0.012762</td>\n",
       "      <td>True</td>\n",
       "      <td>0.0001</td>\n",
       "    </tr>\n",
       "  </tbody>\n",
       "</table>\n",
       "<p>133 rows × 5 columns</p>\n",
       "</div>"
      ],
      "text/plain": [
       "FitModel({'loss': 'SquaredError', 'intercept': True, 'penalty': 'L0L2'})"
      ]
     },
     "execution_count": 14,
     "metadata": {},
     "output_type": "execute_result"
    }
   ],
   "source": [
    "fit_model_2 # Using ipython Rich Display\n",
    "# fit_model_2.characteristics()  # For non Rich Display"
   ]
  },
  {
   "cell_type": "markdown",
   "metadata": {
    "collapsed": false
   },
   "source": [
    "The sequence of $\\gamma$ values can be accessed using `fit_model_2.gamma`. To extract a solution we use the [l0learn.models.FitModel.coeff](code.rst#l0learn.models.FitModel.coeff) method. For example, extracting the solution at $\\lambda=0.0016$ and $\\gamma=10$ can be done using:"
   ]
  },
  {
   "cell_type": "code",
   "execution_count": 40,
   "metadata": {
    "collapsed": false,
    "pycharm": {
     "name": "#%%\n"
    }
   },
   "outputs": [
    {
     "data": {
      "text/plain": [
       "<1001x1 sparse matrix of type '<class 'numpy.float64'>'\n",
       "\twith 11 stored elements in Compressed Sparse Column format>"
      ]
     },
     "execution_count": 40,
     "metadata": {},
     "output_type": "execute_result"
    }
   ],
   "source": [
    "fit_model_2.coeff(lambda_0=0.0016, gamma=10)"
   ]
  },
  {
   "cell_type": "markdown",
   "metadata": {
    "collapsed": false
   },
   "source": [
    "Similarly, we can predict the response at this pair of $\\lambda$ and $\\gamma$ for the matrix X using"
   ]
  },
  {
   "cell_type": "code",
   "execution_count": 41,
   "metadata": {
    "collapsed": false,
    "pycharm": {
     "name": "#%%\n"
    }
   },
   "outputs": [
    {
     "name": "stdout",
     "output_type": "stream",
     "text": [
      "[[-0.31499242]\n",
      " [-0.3474209 ]\n",
      " [-0.23997924]\n",
      " ...\n",
      " [-0.06707991]\n",
      " [-0.18562493]\n",
      " [-0.25608131]]\n"
     ]
    }
   ],
   "source": [
    "with np.printoptions(threshold=10):\n",
    "    print(fit_model_2.predict(x=X, lambda_0=0.0016, gamma=10))"
   ]
  },
  {
   "cell_type": "markdown",
   "metadata": {
    "collapsed": false
   },
   "source": [
    "The regularization path can also be plotted at a specific $\\gamma$ using `fit_model_2.plot(gamma=10)`. Here we can see the influence of ratio of $\\gamma$ and $\\lambda$. Since $\\gamma$ is so large ($10$) maintaining sparisity, then $\\lambda$ can be quite small $0.0016$ which this results in a very stable estimate of the magnitude of the coeffs."
   ]
  },
  {
   "cell_type": "code",
   "execution_count": 44,
   "metadata": {
    "collapsed": false,
    "pycharm": {
     "name": "#%%\n"
    }
   },
   "outputs": [
    {
     "name": "stderr",
     "output_type": "stream",
     "text": [
      "/Users/tnonet/Documents/GitHub/L0Learn/python/l0learn/models.py:438: UserWarning: Duplicate solution seen at support size 3. Plotting only first solution\n",
      "  warnings.warn(f\"Duplicate solution seen at support size {support_size}. Plotting only first solution\")\n",
      "/Users/tnonet/Documents/GitHub/L0Learn/python/l0learn/models.py:438: UserWarning: Duplicate solution seen at support size 10. Plotting only first solution\n",
      "  warnings.warn(f\"Duplicate solution seen at support size {support_size}. Plotting only first solution\")\n",
      "/Users/tnonet/Documents/GitHub/L0Learn/python/l0learn/models.py:438: UserWarning: Duplicate solution seen at support size 11. Plotting only first solution\n",
      "  warnings.warn(f\"Duplicate solution seen at support size {support_size}. Plotting only first solution\")\n",
      "/Users/tnonet/Documents/GitHub/L0Learn/python/l0learn/models.py:438: UserWarning: Duplicate solution seen at support size 12. Plotting only first solution\n",
      "  warnings.warn(f\"Duplicate solution seen at support size {support_size}. Plotting only first solution\")\n"
     ]
    },
    {
     "data": {
      "text/plain": [
       "<AxesSubplot:xlabel='Support Size', ylabel='Coefficient Value'>"
      ]
     },
     "execution_count": 44,
     "metadata": {},
     "output_type": "execute_result"
    },
    {
     "data": {
      "image/png": "[encoded data removed]",
      "text/plain": [
       "<Figure size 432x288 with 1 Axes>"
      ]
     },
     "metadata": {
      "needs_background": "light"
     },
     "output_type": "display_data"
    }
   ],
   "source": [
    "fit_model_2.plot(gamma=10, show_lines=True)\n"
   ]
  },
  {
   "cell_type": "markdown",
   "metadata": {
    "collapsed": false,
    "pycharm": {
     "name": "#%% md\n"
    }
   },
   "source": [
    "Finally, we note that fitting an L0L1 model can be done by just changing the `penalty` to \"L0L1\" in the above (in this case `gamma_max` will be ignored since it is automatically selected by the toolkit; see the reference manual for more details.)\n",
    "\n",
    "## Higher-quality Solutions using Local Search\n",
    "By default, `l0learn` uses coordinate descent (CD) to fit models. Since the objective function is non-convex, the choice of the optimization algorithm can have a significant effect on the solution quality (different algorithms can lead to solutions with very different objective values). A more elaborate algorithm based on combinatorial search can be used by setting the parameter `algorithm=\"CDPSI\"` in the call to `l0learn.fit`. `CDPSI` typically leads to higher-quality solutions compared to CD, especially when the features are highly correlated. CDPSI is slower than CD, however, for typical applications it terminates in the order of seconds.\n",
    "\n",
    "## Cross-validation\n",
    "We will demonstrate how to use K-fold cross-validation (CV) to select the optimal values of the tuning parameters $\\lambda$ and $\\gamma$. To perform CV, we use the [l0learn.cvfit](code.rst#l0learn.cvfit)  function, which takes the same parameters as [l0learn.fit](code.rst#l0learn.fit), in addition to the number of folds using the `num_folds` parameter and a seed value using the `seed` parameter (this is used when randomly shuffling the data before performing CV).\n",
    "\n",
    "For example, to perform 5-fold CV using the `L0L2` penalty (over a range of 5 `gamma` values between 0.0001 and 0.1) with a maximum of 50 non-zeros, we run:"
   ]
  },
  {
   "cell_type": "code",
   "execution_count": 45,
   "metadata": {
    "collapsed": false,
    "pycharm": {
     "name": "#%%\n"
    }
   },
   "outputs": [],
   "source": [
    "cv_fit_result = l0learn.cvfit(X, y, num_folds=5, seed=1, penalty=\"L0L2\", num_gamma=5, gamma_min=0.0001, gamma_max=0.1, max_support_size=50)"
   ]
  },
  {
   "cell_type": "markdown",
   "metadata": {
    "collapsed": false
   },
   "source": [
    "Note that the object returned during cross validation is [l0learn.models.CVFitModel](code.rst#l0learn.models.CVFitModel) which subclasses [l0learn.models.FitModel](code.rst#l0learn.models.FitModel) and thus has the same methods and underlinying structure. The cross-validation errors can be accessed using the `cv_means` attribute of a `CVFitModel`: `cv_fit_result.cv_means` is a list where the ith element, `cv_fit_result.cv_means[i]`, stores the cross-validation errors for the ith value of gamma `cv_fit_result.gamma[i]`). To find the minimum cross-validation error for every `gamma`, we apply the :code:`np.argmin` function for every element in the list :`cv_fit_result.cv_means`, as follows:"
   ]
  },
  {
   "cell_type": "code",
   "execution_count": 52,
   "metadata": {
    "collapsed": false,
    "pycharm": {
     "name": "#%%\n"
    }
   },
   "outputs": [
    {
     "data": {
      "text/plain": [
       "[(0, 8, 0.5313128699361661),\n",
       " (1, 8, 0.2669789604993652),\n",
       " (2, 8, 0.2558807301729078),\n",
       " (3, 20, 0.25555788170828786),\n",
       " (4, 19, 0.2555564968851251)]"
      ]
     },
     "execution_count": 52,
     "metadata": {},
     "output_type": "execute_result"
    }
   ],
   "source": [
    "gamma_mins = [(i, np.argmin(cv_mean), np.min(cv_mean)) for i, cv_mean in enumerate(cv_fit_result.cv_means)]\n",
    "gamma_mins"
   ]
  },
  {
   "cell_type": "markdown",
   "metadata": {
    "collapsed": false
   },
   "source": [
    "The above output indicates that the 5th value of gamma achieves the lowest CV error (`=0.255`). We can plot the CV errors against the support size for the 5th value of gamma, i.e., `gamma = cv_fit_result.gamma[4]`, using:"
   ]
  },
  {
   "cell_type": "code",
   "execution_count": 50,
   "metadata": {
    "collapsed": false,
    "pycharm": {
     "name": "#%%\n"
    }
   },
   "outputs": [
    {
     "data": {
      "text/plain": [
       "<AxesSubplot:xlabel='Support Size', ylabel='Cross-Validation Error'>"
      ]
     },
     "execution_count": 50,
     "metadata": {},
     "output_type": "execute_result"
    },
    {
     "data": {
      "image/png": "[encoded data removed]",
      "text/plain": [
       "<Figure size 432x288 with 1 Axes>"
      ]
     },
     "metadata": {
      "needs_background": "light"
     },
     "output_type": "display_data"
    }
   ],
   "source": [
    "cv_fit_result.cv_plot(gamma = cv_fit_result.gamma[4])\n",
    "cv_fit_result.cv_sds"
   ]
  },
  {
   "cell_type": "markdown",
   "metadata": {
    "collapsed": false
   },
   "source": [
    "The above plot is produced using the [matplotlib](https://pandas.pydata.org/pandas-docs/version/0.21/visualization.html) package and returns a [matplotlib.axes._subplots.AxesSubplot](https://pandas.pydata.org/pandas-docs/version/0.21/visualization.html) which can be further customized by the user. We can also note that we have error bars in the cross validation error which is stored in `cv_sds` attribute and can be accessed with  `cv_fit_result.cv_sds`. To extract the optimal $\\lambda$ (i.e., the one with minimum CV error) in this plot, we execute the following:"
   ]
  },
  {
   "cell_type": "code",
   "execution_count": 57,
   "metadata": {
    "collapsed": false,
    "pycharm": {
     "name": "#%%\n"
    }
   },
   "outputs": [
    {
     "name": "stdout",
     "output_type": "stream",
     "text": [
      "4 19 0.2555564968851251\n",
      "Optimal lambda =  0.0016080760437896327\n"
     ]
    }
   ],
   "source": [
    "optimal_gamma_index, optimal_lambda_index, min_error = min(gamma_mins, key = lambda t: t[2])\n",
    "print(optimal_gamma_index, optimal_lambda_index, min_error)\n",
    "print(\"Optimal lambda = \", fit_model_2.lambda_0[optimal_gamma_index][optimal_lambda_index])"
   ]
  },
  {
   "cell_type": "markdown",
   "metadata": {
    "collapsed": false
   },
   "source": [
    "To print the solution corresponding to the optimal gamma/lambda pair:"
   ]
  },
  {
   "cell_type": "code",
   "execution_count": 58,
   "metadata": {
    "collapsed": false,
    "pycharm": {
     "name": "#%%\n"
    }
   },
   "outputs": [
    {
     "data": {
      "text/plain": [
       "<1001x1 sparse matrix of type '<class 'numpy.float64'>'\n",
       "\twith 11 stored elements in Compressed Sparse Column format>"
      ]
     },
     "execution_count": 58,
     "metadata": {},
     "output_type": "execute_result"
    }
   ],
   "source": [
    "cv_fit_result.coeff(lambda_0=fit_model_2.lambda_0[optimal_gamma_index][optimal_lambda_index],\n",
    "                    gamma=fit_model_2.gamma[optimal_gamma_index])"
   ]
  },
  {
   "cell_type": "markdown",
   "metadata": {
    "collapsed": false
   },
   "source": [
    "The optimal solution (above) selected by cross-validation correctly recovers the support of the true vector of coefficients used to generate the model."
   ]
  },
  {
   "cell_type": "code",
   "execution_count": 70,
   "metadata": {
    "collapsed": false,
    "pycharm": {
     "name": "#%%\n"
    }
   },
   "outputs": [
    {
     "name": "stdout",
     "output_type": "stream",
     "text": [
      "[[1.01994648 1.        ]\n",
      " [0.97317979 1.        ]\n",
      " [0.99813347 1.        ]\n",
      " [0.99669481 1.        ]\n",
      " [1.01128182 1.        ]\n",
      " [1.00190748 1.        ]\n",
      " [1.01272103 1.        ]\n",
      " [0.99204841 1.        ]\n",
      " [0.99607406 1.        ]\n",
      " [1.0266543  1.        ]\n",
      " [0.         0.        ]\n",
      " [0.         0.        ]\n",
      " [0.         0.        ]\n",
      " [0.         0.        ]\n",
      " [0.         0.        ]\n",
      " ...\n",
      " [0.         0.        ]\n",
      " [0.         0.        ]\n",
      " [0.         0.        ]\n",
      " [0.         0.        ]\n",
      " [0.         0.        ]\n",
      " [0.         0.        ]\n",
      " [0.         0.        ]\n",
      " [0.         0.        ]\n",
      " [0.         0.        ]\n",
      " [0.         0.        ]\n",
      " [0.         0.        ]\n",
      " [0.         0.        ]\n",
      " [0.         0.        ]\n",
      " [0.         0.        ]\n",
      " [0.         0.        ]]\n"
     ]
    }
   ],
   "source": [
    "beta_vector = cv_fit_result.coeff(lambda_0=fit_model_2.lambda_0[optimal_gamma_index][optimal_lambda_index],\n",
    "                    gamma=fit_model_2.gamma[optimal_gamma_index],\n",
    "                    include_intercept=False).toarray()\n",
    "\n",
    "with np.printoptions(threshold=30, edgeitems=15):\n",
    "    print(np.hstack([beta_vector, B.reshape(-1, 1)]))"
   ]
  },
  {
   "cell_type": "markdown",
   "metadata": {
    "collapsed": false,
    "pycharm": {
     "name": "#%% md\n"
    }
   },
   "source": [
    "## Fitting Classification Models\n",
    "All the commands and plots we have seen in the case of regression extend to classification. We currently support logistic regression (using the parameter `loss=\"Logistic\"`) and a smoothed version of SVM (using the parameter `loss=\"SquaredHinge\"`). To give some examples, we first generate a synthetic classification dataset (similar to the one we generated in the case of regression):"
   ]
  },
  {
   "cell_type": "code",
   "execution_count": 72,
   "metadata": {
    "collapsed": false,
    "pycharm": {
     "name": "#%%\n"
    }
   },
   "outputs": [],
   "source": [
    "import numpy as np\n",
    "np.random.seed(4) # fix the seed to get a reproducible result\n",
    "n, p, k = 500, 1000, 10\n",
    "X = np.random.normal(size=(n, p))\n",
    "B = np.zeros(p)\n",
    "B[:k] = 1\n",
    "e = np.random.normal(size=(n,))/2\n",
    "y = np.sign(X@B + e)"
   ]
  },
  {
   "cell_type": "markdown",
   "metadata": {
    "collapsed": false
   },
   "source": [
    "More expressive and complete functions for generating datasets can be found are available in [l0learn.models](code.rst#l0learn.models). The available functions are:\n",
    "\n",
    "* [l0learn.models.gen_synthetic()](code.rst#l0learn.models.gen_synthetic)\n",
    "* [l0learn.models.gen_synthetic_high_corr()](code.rst#l0learn.models.gen_synthetic_high_corr)\n",
    "* [l0learn.models.gen_synthetic_logistic()](code.rst#l0learn.models.gen_synthetic_logistic)\n",
    "\n",
    "An L0-regularized logistic regression model can be fit by specificying `loss = \"Logistic\"` as follows:"
   ]
  },
  {
   "cell_type": "code",
   "execution_count": 117,
   "metadata": {
    "collapsed": false,
    "pycharm": {
     "name": "#%%\n"
    }
   },
   "outputs": [
    {
     "data": {
      "text/html": [
       "<div>\n",
       "<style scoped>\n",
       "    .dataframe tbody tr th:only-of-type {\n",
       "        vertical-align: middle;\n",
       "    }\n",
       "\n",
       "    .dataframe tbody tr th {\n",
       "        vertical-align: top;\n",
       "    }\n",
       "\n",
       "    .dataframe thead th {\n",
       "        text-align: right;\n",
       "    }\n",
       "</style>\n",
       "<table border=\"1\" class=\"dataframe\">\n",
       "  <thead>\n",
       "    <tr style=\"text-align: right;\">\n",
       "      <th></th>\n",
       "      <th>l0</th>\n",
       "      <th>support_size</th>\n",
       "      <th>intercept</th>\n",
       "      <th>converged</th>\n",
       "      <th>l2</th>\n",
       "    </tr>\n",
       "  </thead>\n",
       "  <tbody>\n",
       "    <tr>\n",
       "      <th>0</th>\n",
       "      <td>25.225336</td>\n",
       "      <td>1</td>\n",
       "      <td>-0.036989</td>\n",
       "      <td>True</td>\n",
       "      <td>1.000000e-07</td>\n",
       "    </tr>\n",
       "    <tr>\n",
       "      <th>1</th>\n",
       "      <td>19.432053</td>\n",
       "      <td>2</td>\n",
       "      <td>-0.043199</td>\n",
       "      <td>True</td>\n",
       "      <td>1.000000e-07</td>\n",
       "    </tr>\n",
       "    <tr>\n",
       "      <th>2</th>\n",
       "      <td>18.928603</td>\n",
       "      <td>2</td>\n",
       "      <td>-0.043230</td>\n",
       "      <td>True</td>\n",
       "      <td>1.000000e-07</td>\n",
       "    </tr>\n",
       "    <tr>\n",
       "      <th>3</th>\n",
       "      <td>15.142882</td>\n",
       "      <td>2</td>\n",
       "      <td>-0.043245</td>\n",
       "      <td>True</td>\n",
       "      <td>1.000000e-07</td>\n",
       "    </tr>\n",
       "    <tr>\n",
       "      <th>4</th>\n",
       "      <td>12.114306</td>\n",
       "      <td>9</td>\n",
       "      <td>0.004044</td>\n",
       "      <td>True</td>\n",
       "      <td>1.000000e-07</td>\n",
       "    </tr>\n",
       "    <tr>\n",
       "      <th>5</th>\n",
       "      <td>7.411211</td>\n",
       "      <td>10</td>\n",
       "      <td>0.188422</td>\n",
       "      <td>False</td>\n",
       "      <td>1.000000e-07</td>\n",
       "    </tr>\n",
       "    <tr>\n",
       "      <th>6</th>\n",
       "      <td>7.188875</td>\n",
       "      <td>10</td>\n",
       "      <td>0.219990</td>\n",
       "      <td>False</td>\n",
       "      <td>1.000000e-07</td>\n",
       "    </tr>\n",
       "    <tr>\n",
       "      <th>7</th>\n",
       "      <td>5.751100</td>\n",
       "      <td>10</td>\n",
       "      <td>0.234899</td>\n",
       "      <td>False</td>\n",
       "      <td>1.000000e-07</td>\n",
       "    </tr>\n",
       "    <tr>\n",
       "      <th>8</th>\n",
       "      <td>4.600880</td>\n",
       "      <td>10</td>\n",
       "      <td>0.242631</td>\n",
       "      <td>False</td>\n",
       "      <td>1.000000e-07</td>\n",
       "    </tr>\n",
       "    <tr>\n",
       "      <th>9</th>\n",
       "      <td>3.680704</td>\n",
       "      <td>10</td>\n",
       "      <td>0.243655</td>\n",
       "      <td>True</td>\n",
       "      <td>1.000000e-07</td>\n",
       "    </tr>\n",
       "    <tr>\n",
       "      <th>10</th>\n",
       "      <td>2.944563</td>\n",
       "      <td>10</td>\n",
       "      <td>0.243993</td>\n",
       "      <td>True</td>\n",
       "      <td>1.000000e-07</td>\n",
       "    </tr>\n",
       "    <tr>\n",
       "      <th>11</th>\n",
       "      <td>2.355651</td>\n",
       "      <td>10</td>\n",
       "      <td>0.244295</td>\n",
       "      <td>True</td>\n",
       "      <td>1.000000e-07</td>\n",
       "    </tr>\n",
       "    <tr>\n",
       "      <th>12</th>\n",
       "      <td>1.884520</td>\n",
       "      <td>10</td>\n",
       "      <td>0.244520</td>\n",
       "      <td>True</td>\n",
       "      <td>1.000000e-07</td>\n",
       "    </tr>\n",
       "    <tr>\n",
       "      <th>13</th>\n",
       "      <td>1.507616</td>\n",
       "      <td>10</td>\n",
       "      <td>0.244716</td>\n",
       "      <td>True</td>\n",
       "      <td>1.000000e-07</td>\n",
       "    </tr>\n",
       "    <tr>\n",
       "      <th>14</th>\n",
       "      <td>1.206093</td>\n",
       "      <td>10</td>\n",
       "      <td>0.244886</td>\n",
       "      <td>True</td>\n",
       "      <td>1.000000e-07</td>\n",
       "    </tr>\n",
       "    <tr>\n",
       "      <th>15</th>\n",
       "      <td>0.964874</td>\n",
       "      <td>10</td>\n",
       "      <td>0.245011</td>\n",
       "      <td>True</td>\n",
       "      <td>1.000000e-07</td>\n",
       "    </tr>\n",
       "    <tr>\n",
       "      <th>16</th>\n",
       "      <td>0.771900</td>\n",
       "      <td>10</td>\n",
       "      <td>0.245133</td>\n",
       "      <td>True</td>\n",
       "      <td>1.000000e-07</td>\n",
       "    </tr>\n",
       "    <tr>\n",
       "      <th>17</th>\n",
       "      <td>0.617520</td>\n",
       "      <td>12</td>\n",
       "      <td>0.178144</td>\n",
       "      <td>False</td>\n",
       "      <td>1.000000e-07</td>\n",
       "    </tr>\n",
       "    <tr>\n",
       "      <th>18</th>\n",
       "      <td>0.598994</td>\n",
       "      <td>12</td>\n",
       "      <td>0.196406</td>\n",
       "      <td>False</td>\n",
       "      <td>1.000000e-07</td>\n",
       "    </tr>\n",
       "    <tr>\n",
       "      <th>19</th>\n",
       "      <td>0.479195</td>\n",
       "      <td>12</td>\n",
       "      <td>0.208883</td>\n",
       "      <td>False</td>\n",
       "      <td>1.000000e-07</td>\n",
       "    </tr>\n",
       "    <tr>\n",
       "      <th>20</th>\n",
       "      <td>0.383356</td>\n",
       "      <td>15</td>\n",
       "      <td>0.192033</td>\n",
       "      <td>False</td>\n",
       "      <td>1.000000e-07</td>\n",
       "    </tr>\n",
       "    <tr>\n",
       "      <th>21</th>\n",
       "      <td>0.371856</td>\n",
       "      <td>15</td>\n",
       "      <td>0.221470</td>\n",
       "      <td>False</td>\n",
       "      <td>1.000000e-07</td>\n",
       "    </tr>\n",
       "    <tr>\n",
       "      <th>22</th>\n",
       "      <td>0.297484</td>\n",
       "      <td>15</td>\n",
       "      <td>0.246182</td>\n",
       "      <td>False</td>\n",
       "      <td>1.000000e-07</td>\n",
       "    </tr>\n",
       "    <tr>\n",
       "      <th>23</th>\n",
       "      <td>0.237988</td>\n",
       "      <td>16</td>\n",
       "      <td>-0.110626</td>\n",
       "      <td>False</td>\n",
       "      <td>1.000000e-07</td>\n",
       "    </tr>\n",
       "    <tr>\n",
       "      <th>24</th>\n",
       "      <td>0.230848</td>\n",
       "      <td>16</td>\n",
       "      <td>-0.118558</td>\n",
       "      <td>False</td>\n",
       "      <td>1.000000e-07</td>\n",
       "    </tr>\n",
       "    <tr>\n",
       "      <th>25</th>\n",
       "      <td>0.184678</td>\n",
       "      <td>16</td>\n",
       "      <td>-0.124533</td>\n",
       "      <td>False</td>\n",
       "      <td>1.000000e-07</td>\n",
       "    </tr>\n",
       "    <tr>\n",
       "      <th>26</th>\n",
       "      <td>0.147743</td>\n",
       "      <td>21</td>\n",
       "      <td>-0.211002</td>\n",
       "      <td>False</td>\n",
       "      <td>1.000000e-07</td>\n",
       "    </tr>\n",
       "  </tbody>\n",
       "</table>\n",
       "</div>"
      ],
      "text/plain": [
       "FitModel({'loss': 'Logistic', 'intercept': True, 'penalty': 'L0L2'})"
      ]
     },
     "execution_count": 117,
     "metadata": {},
     "output_type": "execute_result"
    }
   ],
   "source": [
    "fit_model_3 = l0learn.fit(X,y,loss=\"Logistic\", max_support_size=20)\n",
    "fit_model_3"
   ]
  },
  {
   "cell_type": "markdown",
   "metadata": {
    "collapsed": false
   },
   "source": [
    "The output above indicates that $\\gamma=10^{-7}$ by default we use a small ridge regularization (with $\\gamma=10^{-7}$) to ensure the existence of a unique solution. To extract the coefficients of the solution with $\\lambda = 8.69435$ we use the following code. Notice that we can ignore the specification of gamma as there is only one gamma used in L0 Logistic regression:"
   ]
  },
  {
   "cell_type": "code",
   "execution_count": 83,
   "metadata": {
    "collapsed": false,
    "pycharm": {
     "name": "#%%\n"
    }
   },
   "outputs": [],
   "source": [
    "np.where(fit_model_3.coeff(lambda_0=7.411211).toarray() > 0)[0]"
   ]
  },
  {
   "cell_type": "markdown",
   "metadata": {
    "collapsed": false
   },
   "source": [
    "The above indicates that the 10 non-zeros in the estimated model match those we used in generating the data (i.e, L0 regularization correctly recovered the true support). We can also make predictions at the latter $\\lambda$ using:"
   ]
  },
  {
   "cell_type": "code",
   "execution_count": 84,
   "metadata": {
    "collapsed": false,
    "pycharm": {
     "name": "#%%\n"
    }
   },
   "outputs": [
    {
     "name": "stdout",
     "output_type": "stream",
     "text": [
      "[[1.69583037e-04]\n",
      " [4.92440655e-06]\n",
      " [3.92195535e-03]\n",
      " ...\n",
      " [9.99161941e-01]\n",
      " [1.69035746e-01]\n",
      " [9.99171256e-04]]\n"
     ]
    }
   ],
   "source": [
    "with np.printoptions(threshold=10):\n",
    "   print(fit_model_3.predict(X, lambda_0=7.411211))"
   ]
  },
  {
   "cell_type": "markdown",
   "metadata": {
    "collapsed": false
   },
   "source": [
    "Each row in the above is the probability that the corresponding sample belongs to class $1$. Other models (i.e., L0L2 and L0L1) can be similarly fit by specifying `loss = \"Logistic\"`.\n",
    "\n",
    "Finally, we note that L0Learn also supports a smoothed version of SVM by using squared hinge loss `loss = \"SquaredHinge\"`. The only difference from logistic regression is that the `predict` function returns $\\beta_0 + \\langle x, \\beta \\rangle$ (where $x$ is the testing sample), instead of returning probabilities. The latter predictions can be assigned to the appropriate classes by using a thresholding function (e.g., the sign function)."
   ]
  },
  {
   "cell_type": "markdown",
   "metadata": {
    "collapsed": false
   },
   "source": [
    "## Advanced Options\n",
    "\n",
    "### Sparse Matrix Support\n",
    "Starting in version 2.0.0, L0Learn supports sparse matrices of type [scipy.sparse.csc_matrix](https://docs.scipy.org/doc/scipy/reference/generated/scipy.sparse.csc_matrix.html). If your sparse matrix uses a different storage format, please convert it to `csc_matrix` before using it in `l0learn`. `l0learn` keeps the matrix sparse internally and thus is highly efficient if the matrix is sufficiently sparse. The API for sparse matrices is the same as that of dense matrices, so all the demonstrations in this vignette also apply for sparse matrices. For example, we can fit an L0-regularized model on a sparse matrix as follows:"
   ]
  },
  {
   "cell_type": "code",
   "execution_count": 90,
   "metadata": {
    "collapsed": false,
    "pycharm": {
     "name": "#%%\n"
    }
   },
   "outputs": [
    {
     "data": {
      "text/html": [
       "<div>\n",
       "<style scoped>\n",
       "    .dataframe tbody tr th:only-of-type {\n",
       "        vertical-align: middle;\n",
       "    }\n",
       "\n",
       "    .dataframe tbody tr th {\n",
       "        vertical-align: top;\n",
       "    }\n",
       "\n",
       "    .dataframe thead th {\n",
       "        text-align: right;\n",
       "    }\n",
       "</style>\n",
       "<table border=\"1\" class=\"dataframe\">\n",
       "  <thead>\n",
       "    <tr style=\"text-align: right;\">\n",
       "      <th></th>\n",
       "      <th>l0</th>\n",
       "      <th>support_size</th>\n",
       "      <th>intercept</th>\n",
       "      <th>converged</th>\n",
       "    </tr>\n",
       "  </thead>\n",
       "  <tbody>\n",
       "    <tr>\n",
       "      <th>0</th>\n",
       "      <td>0.031892</td>\n",
       "      <td>0</td>\n",
       "      <td>0.009325</td>\n",
       "      <td>True</td>\n",
       "    </tr>\n",
       "    <tr>\n",
       "      <th>1</th>\n",
       "      <td>0.031573</td>\n",
       "      <td>1</td>\n",
       "      <td>0.004882</td>\n",
       "      <td>True</td>\n",
       "    </tr>\n",
       "    <tr>\n",
       "      <th>2</th>\n",
       "      <td>0.020606</td>\n",
       "      <td>2</td>\n",
       "      <td>-0.002187</td>\n",
       "      <td>True</td>\n",
       "    </tr>\n",
       "    <tr>\n",
       "      <th>3</th>\n",
       "      <td>0.014442</td>\n",
       "      <td>3</td>\n",
       "      <td>-0.004111</td>\n",
       "      <td>True</td>\n",
       "    </tr>\n",
       "    <tr>\n",
       "      <th>4</th>\n",
       "      <td>0.013932</td>\n",
       "      <td>4</td>\n",
       "      <td>-0.002556</td>\n",
       "      <td>True</td>\n",
       "    </tr>\n",
       "    <tr>\n",
       "      <th>5</th>\n",
       "      <td>0.010854</td>\n",
       "      <td>5</td>\n",
       "      <td>0.002987</td>\n",
       "      <td>True</td>\n",
       "    </tr>\n",
       "    <tr>\n",
       "      <th>6</th>\n",
       "      <td>0.009286</td>\n",
       "      <td>6</td>\n",
       "      <td>0.002048</td>\n",
       "      <td>True</td>\n",
       "    </tr>\n",
       "    <tr>\n",
       "      <th>7</th>\n",
       "      <td>0.009191</td>\n",
       "      <td>7</td>\n",
       "      <td>-0.001371</td>\n",
       "      <td>True</td>\n",
       "    </tr>\n",
       "    <tr>\n",
       "      <th>8</th>\n",
       "      <td>0.008771</td>\n",
       "      <td>8</td>\n",
       "      <td>-0.000533</td>\n",
       "      <td>True</td>\n",
       "    </tr>\n",
       "    <tr>\n",
       "      <th>9</th>\n",
       "      <td>0.008151</td>\n",
       "      <td>9</td>\n",
       "      <td>0.000064</td>\n",
       "      <td>True</td>\n",
       "    </tr>\n",
       "    <tr>\n",
       "      <th>10</th>\n",
       "      <td>0.006480</td>\n",
       "      <td>11</td>\n",
       "      <td>0.001587</td>\n",
       "      <td>True</td>\n",
       "    </tr>\n",
       "    <tr>\n",
       "      <th>11</th>\n",
       "      <td>0.006364</td>\n",
       "      <td>12</td>\n",
       "      <td>-0.003636</td>\n",
       "      <td>True</td>\n",
       "    </tr>\n",
       "    <tr>\n",
       "      <th>12</th>\n",
       "      <td>0.005760</td>\n",
       "      <td>13</td>\n",
       "      <td>-0.003866</td>\n",
       "      <td>True</td>\n",
       "    </tr>\n",
       "    <tr>\n",
       "      <th>13</th>\n",
       "      <td>0.005560</td>\n",
       "      <td>15</td>\n",
       "      <td>-0.004211</td>\n",
       "      <td>True</td>\n",
       "    </tr>\n",
       "    <tr>\n",
       "      <th>14</th>\n",
       "      <td>0.005264</td>\n",
       "      <td>17</td>\n",
       "      <td>0.001497</td>\n",
       "      <td>True</td>\n",
       "    </tr>\n",
       "    <tr>\n",
       "      <th>15</th>\n",
       "      <td>0.004637</td>\n",
       "      <td>18</td>\n",
       "      <td>-0.000797</td>\n",
       "      <td>True</td>\n",
       "    </tr>\n",
       "    <tr>\n",
       "      <th>16</th>\n",
       "      <td>0.004515</td>\n",
       "      <td>19</td>\n",
       "      <td>-0.002634</td>\n",
       "      <td>True</td>\n",
       "    </tr>\n",
       "    <tr>\n",
       "      <th>17</th>\n",
       "      <td>0.004113</td>\n",
       "      <td>22</td>\n",
       "      <td>0.001419</td>\n",
       "      <td>True</td>\n",
       "    </tr>\n",
       "  </tbody>\n",
       "</table>\n",
       "</div>"
      ],
      "text/plain": [
       "          l0  support_size  intercept  converged\n",
       "0   0.031892             0   0.009325       True\n",
       "1   0.031573             1   0.004882       True\n",
       "2   0.020606             2  -0.002187       True\n",
       "3   0.014442             3  -0.004111       True\n",
       "4   0.013932             4  -0.002556       True\n",
       "5   0.010854             5   0.002987       True\n",
       "6   0.009286             6   0.002048       True\n",
       "7   0.009191             7  -0.001371       True\n",
       "8   0.008771             8  -0.000533       True\n",
       "9   0.008151             9   0.000064       True\n",
       "10  0.006480            11   0.001587       True\n",
       "11  0.006364            12  -0.003636       True\n",
       "12  0.005760            13  -0.003866       True\n",
       "13  0.005560            15  -0.004211       True\n",
       "14  0.005264            17   0.001497       True\n",
       "15  0.004637            18  -0.000797       True\n",
       "16  0.004515            19  -0.002634       True\n",
       "17  0.004113            22   0.001419       True"
      ]
     },
     "execution_count": 90,
     "metadata": {},
     "output_type": "execute_result"
    }
   ],
   "source": [
    "from scipy.sparse import random\n",
    "from scipy.stats import norm\n",
    "\n",
    "\n",
    "X_sparse = random(n, p, density=0.01, format='csc', data_rvs=norm().rvs)\n",
    "y_sparse = (X_sparse@B + e)\n",
    "\n",
    "fit_model_sparse = l0learn.fit(X_sparse, y_sparse, penalty=\"L0\", max_support_size=20)\n",
    "\n",
    "fit_model_sparse.characteristics()"
   ]
  },
  {
   "cell_type": "markdown",
   "metadata": {
    "collapsed": false
   },
   "source": [
    "### Selection on Subset of Variables\n",
    "In certain applications, it is desirable to always include some of the variables in the model and perform variable selection on others. `l0learn` supports this option through the `exclude_first_k` parameter. Specifically, setting `exclude_first_k = K` (where K is a non-negative integer) instructs `l0learn` to exclude the first K variables in the data matrix `X` from the L0-norm penalty (those K variables will still be penalized using the L2 or L1 norm penalties.). For example, below we fit an `L0` model and exclude the first 3 variables from selection by setting `excludeFirstK = 3`:"
   ]
  },
  {
   "cell_type": "code",
   "execution_count": 94,
   "metadata": {
    "collapsed": false,
    "pycharm": {
     "name": "#%%\n"
    }
   },
   "outputs": [
    {
     "data": {
      "text/html": [
       "<div>\n",
       "<style scoped>\n",
       "    .dataframe tbody tr th:only-of-type {\n",
       "        vertical-align: middle;\n",
       "    }\n",
       "\n",
       "    .dataframe tbody tr th {\n",
       "        vertical-align: top;\n",
       "    }\n",
       "\n",
       "    .dataframe thead th {\n",
       "        text-align: right;\n",
       "    }\n",
       "</style>\n",
       "<table border=\"1\" class=\"dataframe\">\n",
       "  <thead>\n",
       "    <tr style=\"text-align: right;\">\n",
       "      <th></th>\n",
       "      <th>l0</th>\n",
       "      <th>support_size</th>\n",
       "      <th>intercept</th>\n",
       "      <th>converged</th>\n",
       "    </tr>\n",
       "  </thead>\n",
       "  <tbody>\n",
       "    <tr>\n",
       "      <th>0</th>\n",
       "      <td>0.050464</td>\n",
       "      <td>3</td>\n",
       "      <td>-0.017599</td>\n",
       "      <td>True</td>\n",
       "    </tr>\n",
       "    <tr>\n",
       "      <th>1</th>\n",
       "      <td>0.044333</td>\n",
       "      <td>4</td>\n",
       "      <td>-0.021333</td>\n",
       "      <td>True</td>\n",
       "    </tr>\n",
       "    <tr>\n",
       "      <th>2</th>\n",
       "      <td>0.032770</td>\n",
       "      <td>5</td>\n",
       "      <td>-0.027624</td>\n",
       "      <td>True</td>\n",
       "    </tr>\n",
       "    <tr>\n",
       "      <th>3</th>\n",
       "      <td>0.029367</td>\n",
       "      <td>7</td>\n",
       "      <td>-0.029115</td>\n",
       "      <td>True</td>\n",
       "    </tr>\n",
       "    <tr>\n",
       "      <th>4</th>\n",
       "      <td>0.024710</td>\n",
       "      <td>8</td>\n",
       "      <td>-0.021199</td>\n",
       "      <td>True</td>\n",
       "    </tr>\n",
       "    <tr>\n",
       "      <th>5</th>\n",
       "      <td>0.021393</td>\n",
       "      <td>9</td>\n",
       "      <td>0.010249</td>\n",
       "      <td>True</td>\n",
       "    </tr>\n",
       "    <tr>\n",
       "      <th>6</th>\n",
       "      <td>0.014785</td>\n",
       "      <td>10</td>\n",
       "      <td>0.016812</td>\n",
       "      <td>True</td>\n",
       "    </tr>\n",
       "  </tbody>\n",
       "</table>\n",
       "</div>"
      ],
      "text/plain": [
       "         l0  support_size  intercept  converged\n",
       "0  0.050464             3  -0.017599       True\n",
       "1  0.044333             4  -0.021333       True\n",
       "2  0.032770             5  -0.027624       True\n",
       "3  0.029367             7  -0.029115       True\n",
       "4  0.024710             8  -0.021199       True\n",
       "5  0.021393             9   0.010249       True\n",
       "6  0.014785            10   0.016812       True"
      ]
     },
     "execution_count": 94,
     "metadata": {},
     "output_type": "execute_result"
    }
   ],
   "source": [
    "fit_model_k = l0learn.fit(X, y, penalty=\"L0\", max_support_size=10, exclude_first_k=3)\n",
    "fit_model_k.characteristics()"
   ]
  },
  {
   "cell_type": "markdown",
   "metadata": {
    "collapsed": false
   },
   "source": [
    "Plotting the regularization path:"
   ]
  },
  {
   "cell_type": "code",
   "execution_count": 93,
   "metadata": {
    "collapsed": false,
    "pycharm": {
     "name": "#%%\n"
    }
   },
   "outputs": [
    {
     "data": {
      "text/plain": [
       "<AxesSubplot:xlabel='Support Size', ylabel='Coefficient Value'>"
      ]
     },
     "execution_count": 93,
     "metadata": {},
     "output_type": "execute_result"
    },
    {
     "data": {
      "image/png": "[encoded data removed]",
      "text/plain": [
       "<Figure size 432x288 with 1 Axes>"
      ]
     },
     "metadata": {
      "needs_background": "light"
     },
     "output_type": "display_data"
    }
   ],
   "source": [
    "fit_model_k.plot(show_lines=True)"
   ]
  },
  {
   "cell_type": "markdown",
   "metadata": {
    "collapsed": false
   },
   "source": [
    "We can see in the plot above that first 3 variables, (0, 1, 2) are included in all the solutions of the path\n",
    "\n",
    "### Coefficient Bounds\n",
    "Starting in version 2.0.0, `l0learn` supports bounds for CD algorithms for all losses and penalties. (We plan to support bound constraints for the CDPSI algorithm in the future). By default, `l0learn` does not apply bounds, i.e., it assumes $-\\infty <= \\beta_i <= \\infty$ for all i. Users can supply the same bounds for all coefficients by setting the parameters `lows` and `highs` to scalar values (these should satisfy: `lows <= 0`, `lows != highs`, and `highs >= 0`). To use different bounds for the coefficients, `lows` and `highs` can be both set to vectors of length `p` (where the i-th entry corresponds to the bound on coefficient i).\n",
    "\n",
    "All of the following examples are valid."
   ]
  },
  {
   "cell_type": "code",
   "execution_count": 107,
   "metadata": {
    "collapsed": false,
    "pycharm": {
     "name": "#%%\n"
    }
   },
   "outputs": [],
   "source": [
    "l0learn.fit(X, y, penalty=\"L0\", lows=-0.5)\n",
    "l0learn.fit(X, y, penalty=\"L0\", highs=0.5)\n",
    "l0learn.fit(X, y, penalty=\"L0\", lows=-0.5, highs=0.5)\n",
    "\n",
    "max_value = 0.25\n",
    "highs_array = max_value*np.ones(p)\n",
    "highs_array[0] = 0.1\n",
    "fit_model_bounds = l0learn.fit(X, y, penalty=\"L0\", lows=-0.1, highs=highs_array, max_support_size=20)"
   ]
  },
  {
   "cell_type": "markdown",
   "metadata": {
    "collapsed": false
   },
   "source": [
    "We can see the coefficients are subject to the bounds."
   ]
  },
  {
   "cell_type": "code",
   "execution_count": 110,
   "metadata": {
    "collapsed": false,
    "pycharm": {
     "name": "#%%\n"
    }
   },
   "outputs": [
    {
     "name": "stderr",
     "output_type": "stream",
     "text": [
      "/Users/tnonet/Documents/GitHub/L0Learn/python/l0learn/models.py:438: UserWarning: Duplicate solution seen at support size 0. Plotting only first solution\n",
      "  warnings.warn(f\"Duplicate solution seen at support size {support_size}. Plotting only first solution\")\n",
      "/Users/tnonet/Documents/GitHub/L0Learn/python/l0learn/models.py:438: UserWarning: Duplicate solution seen at support size 6. Plotting only first solution\n",
      "  warnings.warn(f\"Duplicate solution seen at support size {support_size}. Plotting only first solution\")\n",
      "/Users/tnonet/Documents/GitHub/L0Learn/python/l0learn/models.py:438: UserWarning: Duplicate solution seen at support size 8. Plotting only first solution\n",
      "  warnings.warn(f\"Duplicate solution seen at support size {support_size}. Plotting only first solution\")\n"
     ]
    },
    {
     "name": "stdout",
     "output_type": "stream",
     "text": [
      "maximum value of coefficients = 0.25 <= 0.25\n",
      "maximum value of first coefficient = 0.1 <= 0.1\n",
      "minimum value of coefficient = -0.1 >= -0.1\n"
     ]
    },
    {
     "data": {
      "image/png": "[encoded data removed]",
      "text/plain": [
       "<Figure size 432x288 with 1 Axes>"
      ]
     },
     "metadata": {
      "needs_background": "light"
     },
     "output_type": "display_data"
    }
   ],
   "source": [
    "fit_model_bounds.plot(show_lines=True)\n",
    "\n",
    "print(f\"maximum value of coefficients = {np.max(fit_model_bounds.coeffs[0])} <= {max_value}\")\n",
    "print(f\"maximum value of first coefficient = {np.max(fit_model_bounds.coeffs[0][0, :])} <= 0.1\")\n",
    "print(f\"minimum value of coefficient = {np.min(fit_model_bounds.coeffs[0])} >= -0.1\")\n"
   ]
  },
  {
   "cell_type": "markdown",
   "metadata": {
    "collapsed": false
   },
   "source": [
    "### User-specified Lambda Grids\n",
    "By default, `l0learn` selects the sequence of lambda values in an efficient manner to avoid wasted computation (since close $\\lambda$ values can typically lead to the same solution). Advanced users of the toolkit can change this default behavior and supply their own sequence of $\\lambda$ values. This can be done supplying the $\\lambda$ values through the parameter `lambda_grid`. When `lambda_grid` is supplied, we require `num_gamma` and `num_lambda` to be `None` to ensure the is no ambiguity in the solution path requested.\n",
    "\n",
    "Specifically, the value assigned to `lambda_grid` should be a list of lists/arrays of decreasing positive values (floats). The length of `lambda_grid` (the number of lists stored) specifies the number of gamma parameters that will fill between `gamma_min`, and `gamma_max`. In the case of L0 penalty, `lambda_grid` must be a list of length 1. In case of L0L2/L0L1 `lambda_grid` can have any number of sub-lists stored. The ith element in `lambda_grid` should be a **strictly decreasing** sequence of positive lambda values which are used by the algorithm for the ith value of gamma. For example, to fit an L0 model with the sequence of user-specified lambda values: 1, 1e-1, 1e-2, 1e-3, 1e-4, we run the following:"
   ]
  },
  {
   "cell_type": "code",
   "execution_count": 113,
   "metadata": {
    "collapsed": false,
    "pycharm": {
     "name": "#%%\n"
    }
   },
   "outputs": [],
   "source": [
    "user_lambda_grid = [[1, 1e-1, 1e-2, 1e-3, 1e-4]]\n",
    "fit_grid = l0learn.fit(X, y, penalty=\"L0\", lambda_grid=user_lambda_grid, max_support_size=1000, num_lambda=None, num_gamma=None)"
   ]
  },
  {
   "cell_type": "markdown",
   "metadata": {
    "collapsed": false
   },
   "source": [
    "To verify the results we print the fit object:"
   ]
  },
  {
   "cell_type": "code",
   "execution_count": 114,
   "metadata": {
    "collapsed": false,
    "pycharm": {
     "name": "#%%\n"
    }
   },
   "outputs": [
    {
     "data": {
      "text/html": [
       "<div>\n",
       "<style scoped>\n",
       "    .dataframe tbody tr th:only-of-type {\n",
       "        vertical-align: middle;\n",
       "    }\n",
       "\n",
       "    .dataframe tbody tr th {\n",
       "        vertical-align: top;\n",
       "    }\n",
       "\n",
       "    .dataframe thead th {\n",
       "        text-align: right;\n",
       "    }\n",
       "</style>\n",
       "<table border=\"1\" class=\"dataframe\">\n",
       "  <thead>\n",
       "    <tr style=\"text-align: right;\">\n",
       "      <th></th>\n",
       "      <th>l0</th>\n",
       "      <th>support_size</th>\n",
       "      <th>intercept</th>\n",
       "      <th>converged</th>\n",
       "    </tr>\n",
       "  </thead>\n",
       "  <tbody>\n",
       "    <tr>\n",
       "      <th>0</th>\n",
       "      <td>1.0000</td>\n",
       "      <td>0</td>\n",
       "      <td>-0.016000</td>\n",
       "      <td>True</td>\n",
       "    </tr>\n",
       "    <tr>\n",
       "      <th>1</th>\n",
       "      <td>0.1000</td>\n",
       "      <td>0</td>\n",
       "      <td>-0.016000</td>\n",
       "      <td>True</td>\n",
       "    </tr>\n",
       "    <tr>\n",
       "      <th>2</th>\n",
       "      <td>0.0100</td>\n",
       "      <td>10</td>\n",
       "      <td>0.016811</td>\n",
       "      <td>True</td>\n",
       "    </tr>\n",
       "    <tr>\n",
       "      <th>3</th>\n",
       "      <td>0.0010</td>\n",
       "      <td>62</td>\n",
       "      <td>0.018729</td>\n",
       "      <td>True</td>\n",
       "    </tr>\n",
       "    <tr>\n",
       "      <th>4</th>\n",
       "      <td>0.0001</td>\n",
       "      <td>267</td>\n",
       "      <td>0.051675</td>\n",
       "      <td>True</td>\n",
       "    </tr>\n",
       "  </tbody>\n",
       "</table>\n",
       "</div>"
      ],
      "text/plain": [
       "FitModel({'loss': 'SquaredError', 'intercept': True, 'penalty': 'L0'})"
      ]
     },
     "execution_count": 114,
     "metadata": {},
     "output_type": "execute_result"
    }
   ],
   "source": [
    "fit_grid\n",
    "# Use fit_grid.characteristics() for those without rich dispalys"
   ]
  },
  {
   "cell_type": "markdown",
   "metadata": {
    "collapsed": false
   },
   "source": [
    "Note that the $\\lambda$ values above are the desired values. For L0L2 and L0L1 penalties, the same can be done where the `lambda_grid` parameter."
   ]
  },
  {
   "cell_type": "code",
   "execution_count": 115,
   "metadata": {
    "collapsed": false,
    "pycharm": {
     "name": "#%%\n"
    }
   },
   "outputs": [],
   "source": [
    "user_lambda_grid_L2 = [[1, 1e-1, 1e-2, 1e-3, 1e-4],\n",
    "                       [10, 2, 1, 0.01, 0.002, 0.001, 1e-5],\n",
    "                       [1e-4, 1e-5]]\n",
    "\n",
    "# user_lambda_grid_L2[[i]] must be a sequence of positive decreasing reals.\n",
    "fit_grid_L2 = l0learn.fit(X, y, penalty=\"L0L2\", lambda_grid=user_lambda_grid_L2, max_support_size=1000, num_lambda=None, num_gamma=None)"
   ]
  },
  {
   "cell_type": "code",
   "execution_count": 116,
   "metadata": {
    "collapsed": false,
    "pycharm": {
     "name": "#%%\n"
    }
   },
   "outputs": [
    {
     "data": {
      "text/html": [
       "<div>\n",
       "<style scoped>\n",
       "    .dataframe tbody tr th:only-of-type {\n",
       "        vertical-align: middle;\n",
       "    }\n",
       "\n",
       "    .dataframe tbody tr th {\n",
       "        vertical-align: top;\n",
       "    }\n",
       "\n",
       "    .dataframe thead th {\n",
       "        text-align: right;\n",
       "    }\n",
       "</style>\n",
       "<table border=\"1\" class=\"dataframe\">\n",
       "  <thead>\n",
       "    <tr style=\"text-align: right;\">\n",
       "      <th></th>\n",
       "      <th>l0</th>\n",
       "      <th>support_size</th>\n",
       "      <th>intercept</th>\n",
       "      <th>converged</th>\n",
       "      <th>l2</th>\n",
       "    </tr>\n",
       "  </thead>\n",
       "  <tbody>\n",
       "    <tr>\n",
       "      <th>0</th>\n",
       "      <td>1.00000</td>\n",
       "      <td>0</td>\n",
       "      <td>-0.016000</td>\n",
       "      <td>True</td>\n",
       "      <td>10.000000</td>\n",
       "    </tr>\n",
       "    <tr>\n",
       "      <th>1</th>\n",
       "      <td>0.10000</td>\n",
       "      <td>0</td>\n",
       "      <td>-0.016000</td>\n",
       "      <td>True</td>\n",
       "      <td>10.000000</td>\n",
       "    </tr>\n",
       "    <tr>\n",
       "      <th>2</th>\n",
       "      <td>0.01000</td>\n",
       "      <td>0</td>\n",
       "      <td>-0.016000</td>\n",
       "      <td>True</td>\n",
       "      <td>10.000000</td>\n",
       "    </tr>\n",
       "    <tr>\n",
       "      <th>3</th>\n",
       "      <td>0.00100</td>\n",
       "      <td>9</td>\n",
       "      <td>-0.014394</td>\n",
       "      <td>True</td>\n",
       "      <td>10.000000</td>\n",
       "    </tr>\n",
       "    <tr>\n",
       "      <th>4</th>\n",
       "      <td>0.00010</td>\n",
       "      <td>134</td>\n",
       "      <td>-0.012180</td>\n",
       "      <td>True</td>\n",
       "      <td>10.000000</td>\n",
       "    </tr>\n",
       "    <tr>\n",
       "      <th>5</th>\n",
       "      <td>10.00000</td>\n",
       "      <td>0</td>\n",
       "      <td>-0.016000</td>\n",
       "      <td>True</td>\n",
       "      <td>0.031623</td>\n",
       "    </tr>\n",
       "    <tr>\n",
       "      <th>6</th>\n",
       "      <td>2.00000</td>\n",
       "      <td>0</td>\n",
       "      <td>-0.016000</td>\n",
       "      <td>True</td>\n",
       "      <td>0.031623</td>\n",
       "    </tr>\n",
       "    <tr>\n",
       "      <th>7</th>\n",
       "      <td>1.00000</td>\n",
       "      <td>0</td>\n",
       "      <td>-0.016000</td>\n",
       "      <td>True</td>\n",
       "      <td>0.031623</td>\n",
       "    </tr>\n",
       "    <tr>\n",
       "      <th>8</th>\n",
       "      <td>0.01000</td>\n",
       "      <td>10</td>\n",
       "      <td>0.015045</td>\n",
       "      <td>True</td>\n",
       "      <td>0.031623</td>\n",
       "    </tr>\n",
       "    <tr>\n",
       "      <th>9</th>\n",
       "      <td>0.00200</td>\n",
       "      <td>28</td>\n",
       "      <td>0.001483</td>\n",
       "      <td>True</td>\n",
       "      <td>0.031623</td>\n",
       "    </tr>\n",
       "    <tr>\n",
       "      <th>10</th>\n",
       "      <td>0.00100</td>\n",
       "      <td>58</td>\n",
       "      <td>0.002821</td>\n",
       "      <td>True</td>\n",
       "      <td>0.031623</td>\n",
       "    </tr>\n",
       "    <tr>\n",
       "      <th>11</th>\n",
       "      <td>0.00001</td>\n",
       "      <td>582</td>\n",
       "      <td>0.021913</td>\n",
       "      <td>True</td>\n",
       "      <td>0.031623</td>\n",
       "    </tr>\n",
       "    <tr>\n",
       "      <th>12</th>\n",
       "      <td>0.00010</td>\n",
       "      <td>311</td>\n",
       "      <td>0.048700</td>\n",
       "      <td>True</td>\n",
       "      <td>0.000100</td>\n",
       "    </tr>\n",
       "    <tr>\n",
       "      <th>13</th>\n",
       "      <td>0.00001</td>\n",
       "      <td>411</td>\n",
       "      <td>0.047991</td>\n",
       "      <td>False</td>\n",
       "      <td>0.000100</td>\n",
       "    </tr>\n",
       "  </tbody>\n",
       "</table>\n",
       "</div>"
      ],
      "text/plain": [
       "FitModel({'loss': 'SquaredError', 'intercept': True, 'penalty': 'L0L2'})"
      ]
     },
     "execution_count": 116,
     "metadata": {},
     "output_type": "execute_result"
    }
   ],
   "source": [
    "fit_grid_L2\n",
    "# Use fit_grid_L2.characteristics() for those without rich dispalys"
   ]
  },
  {
   "cell_type": "markdown",
   "metadata": {
    "collapsed": false
   },
   "source": [
    "# More Details\n",
    "For more details please inspect the doc strings of:\n",
    "\n",
    "* [l0learn.models.CVFitModel](code.rst#l0learn.models.CVFitModel)\n",
    "* [l0learn.models.FitModel](code.rst#l0learn.models.FitModel)\n",
    "* [l0learn.fit](code.rst#l0learn.fit)\n",
    "* [l0learn.cvfit](code.rst#l0learn.cvfit)"
   ]
  },
  {
   "cell_type": "markdown",
   "metadata": {
    "collapsed": false,
    "pycharm": {
     "name": "#%% md\n"
    }
   },
   "source": [
    "# References\n",
    "Hussein Hazimeh and Rahul Mazumder. [Fast Best Subset Selection: Coordinate Descent and Local Combinatorial Optimization Algorithms](https://pubsonline.informs.org/doi/10.1287/opre.2019.1919). Operations Research (2020).\n",
    "\n",
    "Antoine Dedieu, Hussein Hazimeh, and Rahul Mazumder. [Learning Sparse Classifiers: Continuous and Mixed Integer Optimization Perspectives](https://arxiv.org/abs/2001.06471). JMLR (to appear)."
   ]
  }
 ],
 "metadata": {
  "kernelspec": {
   "display_name": "Python 3",
   "language": "python",
   "name": "python3"
  },
  "language_info": {
   "codemirror_mode": {
    "name": "ipython",
    "version": 2
   },
   "file_extension": ".py",
   "mimetype": "text/x-python",
   "name": "python",
   "nbconvert_exporter": "python",
   "pygments_lexer": "ipython2",
   "version": "2.7.6"
  }
 },
 "nbformat": 4,
 "nbformat_minor": 0
}
